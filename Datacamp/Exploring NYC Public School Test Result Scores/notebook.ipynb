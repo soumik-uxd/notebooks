{
 "cells": [
  {
   "cell_type": "markdown",
   "id": "fe0ea788-58dd-459e-8976-fafdb5c05c6d",
   "metadata": {},
   "source": [
    "![New York City schoolbus](./images/schoolbus.jpg)\n",
    "\n",
    "Photo by [Jannis Lucas](https://unsplash.com/@jannis_lucas) on [Unsplash](https://unsplash.com).\n",
    "<br>\n",
    "\n",
    "Every year, American high school students take SATs, which are standardized tests intended to measure literacy, numeracy, and writing skills. There are three sections - reading, math, and writing, each with a **maximum score of 800 points**. These tests are extremely important for students and colleges, as they play a pivotal role in the admissions process.\n",
    "\n",
    "Analyzing the performance of schools is important for a variety of stakeholders, including policy and education professionals, researchers, government, and even parents considering which school their children should attend. \n",
    "\n",
    "We have been provided with a dataset called `schools.csv`, which is previewed below."
   ]
  },
  {
   "cell_type": "code",
   "execution_count": 1,
   "id": "de18f96e-f7d4-4795-bd66-b61796084e77",
   "metadata": {},
   "outputs": [],
   "source": [
    "import pandas as pd\n",
    "schools = pd.read_csv(\"data/schools.csv\")"
   ]
  },
  {
   "cell_type": "markdown",
   "id": "8158a2de-7431-4812-82d1-e27de8f80840",
   "metadata": {},
   "source": [
    "We have been tasked with answering three key questions about New York City (NYC) public school SAT performance.\n",
    "- Which NYC schools have the best math results?\n",
    "- What are the top 10 performing schools based on the combined SAT scores?\n",
    "- Which single borough has the largest standard deviation in the combined SAT score?"
   ]
  },
  {
   "cell_type": "markdown",
   "id": "ed7fe7a3-827d-48dd-8181-f0fe79c9a11f",
   "metadata": {},
   "source": [
    "### Which NYC schools have the best math results?"
   ]
  },
  {
   "cell_type": "code",
   "execution_count": 2,
   "id": "d0eb4f16-5a99-460d-a5ba-706b7ef0bbe7",
   "metadata": {
    "executionCancelledAt": null,
    "executionTime": 27,
    "id": "bA5ajAmk7XH6",
    "lastExecutedAt": 1713353498336,
    "lastExecutedByKernel": "8c595a08-3498-4005-be2d-6581a6789033",
    "lastScheduledRunId": null,
    "lastSuccessfullyExecutedCode": "# Re-run this cell \nimport pandas as pd\n\n# Read in the data\nschools = pd.read_csv(\"schools.csv\")\n\n# Preview the data\n\n\n# Start coding here...\nbest_math_schools = schools[schools['average_math'] >= 640]\nbest_math_schools = best_math_schools[[\"school_name\",\"average_math\"]].sort_values(by=\"average_math\", ascending=False)\nbest_math_schools.head()",
    "outputsMetadata": {
     "0": {
      "columns": {
       "school_name": {
        "wrap": false
       }
      },
      "height": 196,
      "type": "dataFrame"
     }
    }
   },
   "outputs": [
    {
     "data": {
      "text/html": [
       "<div>\n",
       "<style scoped>\n",
       "    .dataframe tbody tr th:only-of-type {\n",
       "        vertical-align: middle;\n",
       "    }\n",
       "\n",
       "    .dataframe tbody tr th {\n",
       "        vertical-align: top;\n",
       "    }\n",
       "\n",
       "    .dataframe thead th {\n",
       "        text-align: right;\n",
       "    }\n",
       "</style>\n",
       "<table border=\"1\" class=\"dataframe\">\n",
       "  <thead>\n",
       "    <tr style=\"text-align: right;\">\n",
       "      <th></th>\n",
       "      <th>school_name</th>\n",
       "      <th>average_math</th>\n",
       "    </tr>\n",
       "  </thead>\n",
       "  <tbody>\n",
       "    <tr>\n",
       "      <th>88</th>\n",
       "      <td>Stuyvesant High School</td>\n",
       "      <td>754</td>\n",
       "    </tr>\n",
       "    <tr>\n",
       "      <th>170</th>\n",
       "      <td>Bronx High School of Science</td>\n",
       "      <td>714</td>\n",
       "    </tr>\n",
       "    <tr>\n",
       "      <th>93</th>\n",
       "      <td>Staten Island Technical High School</td>\n",
       "      <td>711</td>\n",
       "    </tr>\n",
       "    <tr>\n",
       "      <th>365</th>\n",
       "      <td>Queens High School for the Sciences at York Co...</td>\n",
       "      <td>701</td>\n",
       "    </tr>\n",
       "    <tr>\n",
       "      <th>68</th>\n",
       "      <td>High School for Mathematics, Science, and Engi...</td>\n",
       "      <td>683</td>\n",
       "    </tr>\n",
       "  </tbody>\n",
       "</table>\n",
       "</div>"
      ],
      "text/plain": [
       "                                           school_name  average_math\n",
       "88                              Stuyvesant High School           754\n",
       "170                       Bronx High School of Science           714\n",
       "93                 Staten Island Technical High School           711\n",
       "365  Queens High School for the Sciences at York Co...           701\n",
       "68   High School for Mathematics, Science, and Engi...           683"
      ]
     },
     "execution_count": 2,
     "metadata": {},
     "output_type": "execute_result"
    }
   ],
   "source": [
    "best_math_schools = schools[schools['average_math'] >= 640]\n",
    "best_math_schools = best_math_schools[[\"school_name\",\"average_math\"]].sort_values(by=\"average_math\", ascending=False)\n",
    "best_math_schools.head()"
   ]
  },
  {
   "cell_type": "markdown",
   "id": "7f397052-a302-423e-bec5-abead65abf00",
   "metadata": {},
   "source": [
    "### What are the top 10 performing schools based on the combined SAT scores?"
   ]
  },
  {
   "cell_type": "code",
   "execution_count": 3,
   "id": "19c7de02-1f75-48f0-bf6b-ad382453d135",
   "metadata": {
    "executionCancelledAt": null,
    "executionTime": 58,
    "lastExecutedAt": 1713353498394,
    "lastExecutedByKernel": "8c595a08-3498-4005-be2d-6581a6789033",
    "lastScheduledRunId": null,
    "lastSuccessfullyExecutedCode": "schools['total_SAT'] = schools['average_math'] + schools['average_reading'] + schools['average_writing']\n+ schools['average_reading']\ntop_10_schools = schools.sort_values(by=\"total_SAT\", ascending=False).head(10)\ntop_10_schools = top_10_schools[[\"school_name\", \"total_SAT\"]]\ntop_10_schools",
    "outputsMetadata": {
     "0": {
      "height": 321,
      "type": "dataFrame"
     }
    }
   },
   "outputs": [
    {
     "data": {
      "text/html": [
       "<div>\n",
       "<style scoped>\n",
       "    .dataframe tbody tr th:only-of-type {\n",
       "        vertical-align: middle;\n",
       "    }\n",
       "\n",
       "    .dataframe tbody tr th {\n",
       "        vertical-align: top;\n",
       "    }\n",
       "\n",
       "    .dataframe thead th {\n",
       "        text-align: right;\n",
       "    }\n",
       "</style>\n",
       "<table border=\"1\" class=\"dataframe\">\n",
       "  <thead>\n",
       "    <tr style=\"text-align: right;\">\n",
       "      <th></th>\n",
       "      <th>school_name</th>\n",
       "      <th>total_SAT</th>\n",
       "    </tr>\n",
       "  </thead>\n",
       "  <tbody>\n",
       "    <tr>\n",
       "      <th>88</th>\n",
       "      <td>Stuyvesant High School</td>\n",
       "      <td>2144</td>\n",
       "    </tr>\n",
       "    <tr>\n",
       "      <th>170</th>\n",
       "      <td>Bronx High School of Science</td>\n",
       "      <td>2041</td>\n",
       "    </tr>\n",
       "    <tr>\n",
       "      <th>93</th>\n",
       "      <td>Staten Island Technical High School</td>\n",
       "      <td>2041</td>\n",
       "    </tr>\n",
       "    <tr>\n",
       "      <th>174</th>\n",
       "      <td>High School of American Studies at Lehman College</td>\n",
       "      <td>2013</td>\n",
       "    </tr>\n",
       "    <tr>\n",
       "      <th>333</th>\n",
       "      <td>Townsend Harris High School</td>\n",
       "      <td>1981</td>\n",
       "    </tr>\n",
       "    <tr>\n",
       "      <th>365</th>\n",
       "      <td>Queens High School for the Sciences at York Co...</td>\n",
       "      <td>1947</td>\n",
       "    </tr>\n",
       "    <tr>\n",
       "      <th>5</th>\n",
       "      <td>Bard High School Early College</td>\n",
       "      <td>1914</td>\n",
       "    </tr>\n",
       "    <tr>\n",
       "      <th>280</th>\n",
       "      <td>Brooklyn Technical High School</td>\n",
       "      <td>1896</td>\n",
       "    </tr>\n",
       "    <tr>\n",
       "      <th>45</th>\n",
       "      <td>Eleanor Roosevelt High School</td>\n",
       "      <td>1889</td>\n",
       "    </tr>\n",
       "    <tr>\n",
       "      <th>68</th>\n",
       "      <td>High School for Mathematics, Science, and Engi...</td>\n",
       "      <td>1889</td>\n",
       "    </tr>\n",
       "  </tbody>\n",
       "</table>\n",
       "</div>"
      ],
      "text/plain": [
       "                                           school_name  total_SAT\n",
       "88                              Stuyvesant High School       2144\n",
       "170                       Bronx High School of Science       2041\n",
       "93                 Staten Island Technical High School       2041\n",
       "174  High School of American Studies at Lehman College       2013\n",
       "333                        Townsend Harris High School       1981\n",
       "365  Queens High School for the Sciences at York Co...       1947\n",
       "5                       Bard High School Early College       1914\n",
       "280                     Brooklyn Technical High School       1896\n",
       "45                       Eleanor Roosevelt High School       1889\n",
       "68   High School for Mathematics, Science, and Engi...       1889"
      ]
     },
     "execution_count": 3,
     "metadata": {},
     "output_type": "execute_result"
    }
   ],
   "source": [
    "schools['total_SAT'] = schools['average_math'] + schools['average_reading'] + schools['average_writing']\n",
    "+ schools['average_reading']\n",
    "top_10_schools = schools.sort_values(by=\"total_SAT\", ascending=False).head(10)\n",
    "top_10_schools = top_10_schools[[\"school_name\", \"total_SAT\"]]\n",
    "top_10_schools"
   ]
  },
  {
   "cell_type": "markdown",
   "id": "7afc2d20-ba41-4f04-8eaa-2a2c187d23dc",
   "metadata": {},
   "source": [
    "### Which single borough has the largest standard deviation in the combined SAT score?"
   ]
  },
  {
   "cell_type": "code",
   "execution_count": 4,
   "id": "abb31080-b662-460c-b174-a1e4681ebbcc",
   "metadata": {
    "executionCancelledAt": null,
    "executionTime": 55,
    "lastExecutedAt": 1713353498449,
    "lastExecutedByKernel": "8c595a08-3498-4005-be2d-6581a6789033",
    "lastScheduledRunId": null,
    "lastSuccessfullyExecutedCode": "borough_schools = schools.groupby(\"borough\").agg(\n                    num_schools=(\"school_name\", \"count\"), \n                    average_SAT=(\"total_SAT\", \"mean\"),\n                    std_SAT=(\"total_SAT\", \"std\")).round(2)\nlargest_std_dev = borough_schools.sort_values(by=\"std_SAT\", ascending=False).head(1)\nlargest_std_dev",
    "outputsMetadata": {
     "0": {
      "height": 96,
      "type": "dataFrame"
     }
    }
   },
   "outputs": [
    {
     "data": {
      "text/html": [
       "<div>\n",
       "<style scoped>\n",
       "    .dataframe tbody tr th:only-of-type {\n",
       "        vertical-align: middle;\n",
       "    }\n",
       "\n",
       "    .dataframe tbody tr th {\n",
       "        vertical-align: top;\n",
       "    }\n",
       "\n",
       "    .dataframe thead th {\n",
       "        text-align: right;\n",
       "    }\n",
       "</style>\n",
       "<table border=\"1\" class=\"dataframe\">\n",
       "  <thead>\n",
       "    <tr style=\"text-align: right;\">\n",
       "      <th></th>\n",
       "      <th>num_schools</th>\n",
       "      <th>average_SAT</th>\n",
       "      <th>std_SAT</th>\n",
       "    </tr>\n",
       "    <tr>\n",
       "      <th>borough</th>\n",
       "      <th></th>\n",
       "      <th></th>\n",
       "      <th></th>\n",
       "    </tr>\n",
       "  </thead>\n",
       "  <tbody>\n",
       "    <tr>\n",
       "      <th>Manhattan</th>\n",
       "      <td>89</td>\n",
       "      <td>1340.13</td>\n",
       "      <td>230.29</td>\n",
       "    </tr>\n",
       "  </tbody>\n",
       "</table>\n",
       "</div>"
      ],
      "text/plain": [
       "           num_schools  average_SAT  std_SAT\n",
       "borough                                     \n",
       "Manhattan           89      1340.13   230.29"
      ]
     },
     "execution_count": 4,
     "metadata": {},
     "output_type": "execute_result"
    }
   ],
   "source": [
    "borough_schools = schools.groupby(\"borough\").agg(\n",
    "                    num_schools=(\"school_name\", \"count\"), \n",
    "                    average_SAT=(\"total_SAT\", \"mean\"),\n",
    "                    std_SAT=(\"total_SAT\", \"std\")).round(2)\n",
    "largest_std_dev = borough_schools.sort_values(by=\"std_SAT\", ascending=False).head(1)\n",
    "largest_std_dev"
   ]
  }
 ],
 "metadata": {
  "editor": "DataCamp Workspace",
  "kernelspec": {
   "display_name": "Python 3 (ipykernel)",
   "language": "python",
   "name": "python3"
  },
  "language_info": {
   "codemirror_mode": {
    "name": "ipython",
    "version": 3
   },
   "file_extension": ".py",
   "mimetype": "text/x-python",
   "name": "python",
   "nbconvert_exporter": "python",
   "pygments_lexer": "ipython3",
   "version": "3.10.13"
  }
 },
 "nbformat": 4,
 "nbformat_minor": 5
}
