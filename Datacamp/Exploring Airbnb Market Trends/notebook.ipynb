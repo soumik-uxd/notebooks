{
 "cells": [
  {
   "cell_type": "markdown",
   "id": "c747d469-ee97-4b95-880f-feefd5456042",
   "metadata": {
    "id": "bA5ajAmk7XH6"
   },
   "source": [
    "![NYC Skyline](images/nyc.jpg)\n",
    "\n",
    "Welcome to New York City, one of the most-visited cities in the world. There are many Airbnb listings in New York City to meet the high demand for temporary lodging for travelers, which can be anywhere between a few nights to many months. In this project, we will take a closer look at the New York Airbnb market by combining data from multiple file types like `.csv`, `.tsv`, and `.xlsx`.\n",
    "\n",
    "Recall that **CSV**, **TSV**, and **Excel** files are three common formats for storing data. \n",
    "Three files containing data on 2019 Airbnb listings are available to you:\n",
    "\n",
    "**data/airbnb_price.csv**\n",
    "This is a CSV file containing data on Airbnb listing prices and locations.\n",
    "- **`listing_id`**: unique identifier of listing\n",
    "- **`price`**: nightly listing price in USD\n",
    "- **`nbhood_full`**: name of borough and neighborhood where listing is located\n",
    "\n",
    "**data/airbnb_room_type.xlsx**\n",
    "This is an Excel file containing data on Airbnb listing descriptions and room types.\n",
    "- **`listing_id`**: unique identifier of listing\n",
    "- **`description`**: listing description\n",
    "- **`room_type`**: Airbnb has three types of rooms: shared rooms, private rooms, and entire homes/apartments\n",
    "\n",
    "**data/airbnb_last_review.tsv**\n",
    "This is a TSV file containing data on Airbnb host names and review dates.\n",
    "- **`listing_id`**: unique identifier of listing\n",
    "- **`host_name`**: name of listing host\n",
    "- **`last_review`**: date when the listing was last reviewed"
   ]
  },
  {
   "cell_type": "code",
   "execution_count": 1,
   "id": "1fdc5784-479e-46cb-b05b-68439dcc94a7",
   "metadata": {
    "executionCancelledAt": null,
    "executionTime": 9,
    "lastExecutedAt": 1732479509089,
    "lastExecutedByKernel": "12a38780-ebc2-42db-aced-cda2cce3ab18",
    "lastScheduledRunId": null,
    "lastSuccessfullyExecutedCode": "# Import necessary packages\nimport pandas as pd\nimport numpy as np"
   },
   "outputs": [],
   "source": [
    "# Import necessary packages\n",
    "import pandas as pd\n",
    "import numpy as np"
   ]
  },
  {
   "cell_type": "code",
   "execution_count": 2,
   "id": "9ef21902-ed55-4b9d-bad6-ca05418b5b90",
   "metadata": {
    "chartConfig": {
     "bar": {
      "hasRoundedCorners": true,
      "stacked": false
     },
     "type": "bar",
     "version": "v1"
    },
    "executionCancelledAt": null,
    "executionTime": 1394,
    "lastExecutedAt": 1732479510483,
    "lastExecutedByKernel": "12a38780-ebc2-42db-aced-cda2cce3ab18",
    "lastScheduledRunId": null,
    "lastSuccessfullyExecutedCode": "# Load the data\nairbnb_price_df = pd.read_csv(\"data/airbnb_price.csv\")\nairbnb_room_type_df = pd.read_excel(\"data/airbnb_room_type.xlsx\")\nairbnb_last_review_df = pd.read_csv(\"data/airbnb_last_review.tsv\", sep='\\t')\n\n# Display the data\nairbnb_price_df['price'] = airbnb_price_df['price'].str.extract('(\\d+)').astype('int32')\nairbnb_price_df.head()",
    "outputsMetadata": {
     "0": {
      "height": 237,
      "type": "dataFrame"
     }
    },
    "visualizeDataframe": false
   },
   "outputs": [
    {
     "data": {
      "text/html": [
       "<div>\n",
       "<style scoped>\n",
       "    .dataframe tbody tr th:only-of-type {\n",
       "        vertical-align: middle;\n",
       "    }\n",
       "\n",
       "    .dataframe tbody tr th {\n",
       "        vertical-align: top;\n",
       "    }\n",
       "\n",
       "    .dataframe thead th {\n",
       "        text-align: right;\n",
       "    }\n",
       "</style>\n",
       "<table border=\"1\" class=\"dataframe\">\n",
       "  <thead>\n",
       "    <tr style=\"text-align: right;\">\n",
       "      <th></th>\n",
       "      <th>listing_id</th>\n",
       "      <th>price</th>\n",
       "      <th>nbhood_full</th>\n",
       "    </tr>\n",
       "  </thead>\n",
       "  <tbody>\n",
       "    <tr>\n",
       "      <th>0</th>\n",
       "      <td>2595</td>\n",
       "      <td>225</td>\n",
       "      <td>Manhattan, Midtown</td>\n",
       "    </tr>\n",
       "    <tr>\n",
       "      <th>1</th>\n",
       "      <td>3831</td>\n",
       "      <td>89</td>\n",
       "      <td>Brooklyn, Clinton Hill</td>\n",
       "    </tr>\n",
       "    <tr>\n",
       "      <th>2</th>\n",
       "      <td>5099</td>\n",
       "      <td>200</td>\n",
       "      <td>Manhattan, Murray Hill</td>\n",
       "    </tr>\n",
       "    <tr>\n",
       "      <th>3</th>\n",
       "      <td>5178</td>\n",
       "      <td>79</td>\n",
       "      <td>Manhattan, Hell's Kitchen</td>\n",
       "    </tr>\n",
       "    <tr>\n",
       "      <th>4</th>\n",
       "      <td>5238</td>\n",
       "      <td>150</td>\n",
       "      <td>Manhattan, Chinatown</td>\n",
       "    </tr>\n",
       "  </tbody>\n",
       "</table>\n",
       "</div>"
      ],
      "text/plain": [
       "   listing_id  price                nbhood_full\n",
       "0        2595    225         Manhattan, Midtown\n",
       "1        3831     89     Brooklyn, Clinton Hill\n",
       "2        5099    200     Manhattan, Murray Hill\n",
       "3        5178     79  Manhattan, Hell's Kitchen\n",
       "4        5238    150       Manhattan, Chinatown"
      ]
     },
     "execution_count": 2,
     "metadata": {},
     "output_type": "execute_result"
    }
   ],
   "source": [
    "# Load the data\n",
    "airbnb_price_df = pd.read_csv(\"data/airbnb_price.csv\")\n",
    "airbnb_room_type_df = pd.read_excel(\"data/airbnb_room_type.xlsx\")\n",
    "airbnb_last_review_df = pd.read_csv(\"data/airbnb_last_review.tsv\", sep='\\t')\n",
    "\n",
    "# Display the data\n",
    "airbnb_price_df['price'] = airbnb_price_df['price'].str.extract('(\\d+)').astype('int32')\n",
    "airbnb_price_df.head()"
   ]
  },
  {
   "cell_type": "code",
   "execution_count": 3,
   "id": "dd51051f-3c01-42b3-af0e-ce5d7ab0e766",
   "metadata": {
    "executionCancelledAt": null,
    "executionTime": 53,
    "lastExecutedAt": 1732479510536,
    "lastExecutedByKernel": "12a38780-ebc2-42db-aced-cda2cce3ab18",
    "lastScheduledRunId": null,
    "lastSuccessfullyExecutedCode": "airbnb_room_type_df.head()",
    "outputsMetadata": {
     "0": {
      "height": 237,
      "type": "dataFrame"
     }
    }
   },
   "outputs": [
    {
     "data": {
      "text/html": [
       "<div>\n",
       "<style scoped>\n",
       "    .dataframe tbody tr th:only-of-type {\n",
       "        vertical-align: middle;\n",
       "    }\n",
       "\n",
       "    .dataframe tbody tr th {\n",
       "        vertical-align: top;\n",
       "    }\n",
       "\n",
       "    .dataframe thead th {\n",
       "        text-align: right;\n",
       "    }\n",
       "</style>\n",
       "<table border=\"1\" class=\"dataframe\">\n",
       "  <thead>\n",
       "    <tr style=\"text-align: right;\">\n",
       "      <th></th>\n",
       "      <th>listing_id</th>\n",
       "      <th>description</th>\n",
       "      <th>room_type</th>\n",
       "    </tr>\n",
       "  </thead>\n",
       "  <tbody>\n",
       "    <tr>\n",
       "      <th>0</th>\n",
       "      <td>2595</td>\n",
       "      <td>Skylit Midtown Castle</td>\n",
       "      <td>Entire home/apt</td>\n",
       "    </tr>\n",
       "    <tr>\n",
       "      <th>1</th>\n",
       "      <td>3831</td>\n",
       "      <td>Cozy Entire Floor of Brownstone</td>\n",
       "      <td>Entire home/apt</td>\n",
       "    </tr>\n",
       "    <tr>\n",
       "      <th>2</th>\n",
       "      <td>5099</td>\n",
       "      <td>Large Cozy 1 BR Apartment In Midtown East</td>\n",
       "      <td>Entire home/apt</td>\n",
       "    </tr>\n",
       "    <tr>\n",
       "      <th>3</th>\n",
       "      <td>5178</td>\n",
       "      <td>Large Furnished Room Near B'way</td>\n",
       "      <td>private room</td>\n",
       "    </tr>\n",
       "    <tr>\n",
       "      <th>4</th>\n",
       "      <td>5238</td>\n",
       "      <td>Cute &amp; Cozy Lower East Side 1 bdrm</td>\n",
       "      <td>Entire home/apt</td>\n",
       "    </tr>\n",
       "  </tbody>\n",
       "</table>\n",
       "</div>"
      ],
      "text/plain": [
       "   listing_id                                description        room_type\n",
       "0        2595                      Skylit Midtown Castle  Entire home/apt\n",
       "1        3831            Cozy Entire Floor of Brownstone  Entire home/apt\n",
       "2        5099  Large Cozy 1 BR Apartment In Midtown East  Entire home/apt\n",
       "3        5178            Large Furnished Room Near B'way     private room\n",
       "4        5238         Cute & Cozy Lower East Side 1 bdrm  Entire home/apt"
      ]
     },
     "execution_count": 3,
     "metadata": {},
     "output_type": "execute_result"
    }
   ],
   "source": [
    "airbnb_room_type_df.head()"
   ]
  },
  {
   "cell_type": "code",
   "execution_count": 4,
   "id": "b3093b7b-4ecc-446a-82a0-1fb543f0f7e5",
   "metadata": {
    "executionCancelledAt": null,
    "executionTime": 4635,
    "lastExecutedAt": 1732479515171,
    "lastExecutedByKernel": "12a38780-ebc2-42db-aced-cda2cce3ab18",
    "lastScheduledRunId": null,
    "lastSuccessfullyExecutedCode": "# Format the date and display\nairbnb_last_review_df['last_review_date'] = airbnb_last_review_df['last_review'].apply(pd.to_datetime, errors='coerce').apply(lambda x: x.strftime(\"%Y-%m-%d\"))\nairbnb_last_review_df.head()",
    "outputsMetadata": {
     "0": {
      "height": 237,
      "type": "dataFrame"
     }
    }
   },
   "outputs": [
    {
     "data": {
      "text/html": [
       "<div>\n",
       "<style scoped>\n",
       "    .dataframe tbody tr th:only-of-type {\n",
       "        vertical-align: middle;\n",
       "    }\n",
       "\n",
       "    .dataframe tbody tr th {\n",
       "        vertical-align: top;\n",
       "    }\n",
       "\n",
       "    .dataframe thead th {\n",
       "        text-align: right;\n",
       "    }\n",
       "</style>\n",
       "<table border=\"1\" class=\"dataframe\">\n",
       "  <thead>\n",
       "    <tr style=\"text-align: right;\">\n",
       "      <th></th>\n",
       "      <th>listing_id</th>\n",
       "      <th>host_name</th>\n",
       "      <th>last_review</th>\n",
       "      <th>last_review_date</th>\n",
       "    </tr>\n",
       "  </thead>\n",
       "  <tbody>\n",
       "    <tr>\n",
       "      <th>0</th>\n",
       "      <td>2595</td>\n",
       "      <td>Jennifer</td>\n",
       "      <td>May 21 2019</td>\n",
       "      <td>2019-05-21</td>\n",
       "    </tr>\n",
       "    <tr>\n",
       "      <th>1</th>\n",
       "      <td>3831</td>\n",
       "      <td>LisaRoxanne</td>\n",
       "      <td>July 05 2019</td>\n",
       "      <td>2019-07-05</td>\n",
       "    </tr>\n",
       "    <tr>\n",
       "      <th>2</th>\n",
       "      <td>5099</td>\n",
       "      <td>Chris</td>\n",
       "      <td>June 22 2019</td>\n",
       "      <td>2019-06-22</td>\n",
       "    </tr>\n",
       "    <tr>\n",
       "      <th>3</th>\n",
       "      <td>5178</td>\n",
       "      <td>Shunichi</td>\n",
       "      <td>June 24 2019</td>\n",
       "      <td>2019-06-24</td>\n",
       "    </tr>\n",
       "    <tr>\n",
       "      <th>4</th>\n",
       "      <td>5238</td>\n",
       "      <td>Ben</td>\n",
       "      <td>June 09 2019</td>\n",
       "      <td>2019-06-09</td>\n",
       "    </tr>\n",
       "  </tbody>\n",
       "</table>\n",
       "</div>"
      ],
      "text/plain": [
       "   listing_id    host_name   last_review last_review_date\n",
       "0        2595     Jennifer   May 21 2019       2019-05-21\n",
       "1        3831  LisaRoxanne  July 05 2019       2019-07-05\n",
       "2        5099        Chris  June 22 2019       2019-06-22\n",
       "3        5178     Shunichi  June 24 2019       2019-06-24\n",
       "4        5238          Ben  June 09 2019       2019-06-09"
      ]
     },
     "execution_count": 4,
     "metadata": {},
     "output_type": "execute_result"
    }
   ],
   "source": [
    "# Format the date and display\n",
    "airbnb_last_review_df['last_review_date'] = airbnb_last_review_df['last_review'].apply(pd.to_datetime, errors='coerce').apply(lambda x: x.strftime(\"%Y-%m-%d\"))\n",
    "airbnb_last_review_df.head()"
   ]
  },
  {
   "cell_type": "markdown",
   "id": "0a382094-c363-4674-8714-054e896833a0",
   "metadata": {},
   "source": [
    "## What are the dates of the earliest and most recent reviews? "
   ]
  },
  {
   "cell_type": "code",
   "execution_count": 5,
   "id": "a199c740-8ab8-4169-8731-8affb3ab746f",
   "metadata": {
    "executionCancelledAt": null,
    "executionTime": 53,
    "lastExecutedAt": 1732479515224,
    "lastExecutedByKernel": "12a38780-ebc2-42db-aced-cda2cce3ab18",
    "lastScheduledRunId": null,
    "lastSuccessfullyExecutedCode": "earliest_review = airbnb_last_review_df['last_review_date'].min()\nlatest_review = airbnb_last_review_df['last_review_date'].max()\nprint(f\"The earliest review was on {earliest_review} and the latest review was on {latest_review}\")",
    "outputsMetadata": {
     "0": {
      "height": 39,
      "type": "stream"
     }
    }
   },
   "outputs": [
    {
     "name": "stdout",
     "output_type": "stream",
     "text": [
      "The earliest review was on 2019-01-01 and the latest review was on 2019-07-09\n"
     ]
    }
   ],
   "source": [
    "earliest_review = airbnb_last_review_df['last_review_date'].min()\n",
    "latest_review = airbnb_last_review_df['last_review_date'].max()\n",
    "print(f\"The earliest review was on {earliest_review} and the latest review was on {latest_review}\")"
   ]
  },
  {
   "cell_type": "markdown",
   "id": "6793f5fc-2ced-48e1-b716-3f68de40b902",
   "metadata": {},
   "source": [
    "## How many of the listings are private rooms?"
   ]
  },
  {
   "cell_type": "code",
   "execution_count": 6,
   "id": "3957012c-3fd3-402f-ba55-a35881c1e816",
   "metadata": {
    "executionCancelledAt": null,
    "executionTime": 53,
    "lastExecutedAt": 1732479515277,
    "lastExecutedByKernel": "12a38780-ebc2-42db-aced-cda2cce3ab18",
    "lastScheduledRunId": null,
    "lastSuccessfullyExecutedCode": "airbnb_room_type_df['room_type'] = airbnb_room_type_df['room_type'].str.lower().astype(\"category\")\nroom_types = airbnb_room_type_df['room_type'].value_counts()\nprivate_room_count = room_types['private room']\nprint(f\"There are {private_room_count} private rooms listed.\")",
    "outputsMetadata": {
     "0": {
      "height": 39,
      "type": "stream"
     }
    }
   },
   "outputs": [
    {
     "name": "stdout",
     "output_type": "stream",
     "text": [
      "There are 11356 private rooms listed.\n"
     ]
    }
   ],
   "source": [
    "airbnb_room_type_df['room_type'] = airbnb_room_type_df['room_type'].str.lower().astype(\"category\")\n",
    "room_types = airbnb_room_type_df['room_type'].value_counts()\n",
    "private_room_count = room_types['private room']\n",
    "print(f\"There are {private_room_count} private rooms listed.\")"
   ]
  },
  {
   "cell_type": "markdown",
   "id": "e9df456b-a302-44ca-9941-30083504d548",
   "metadata": {},
   "source": [
    "## What is the average listing price?"
   ]
  },
  {
   "cell_type": "code",
   "execution_count": 7,
   "id": "ed1a30df-2c82-42a6-880b-2807c3d66f0e",
   "metadata": {
    "executionCancelledAt": null,
    "executionTime": 51,
    "lastExecutedAt": 1732479515328,
    "lastExecutedByKernel": "12a38780-ebc2-42db-aced-cda2cce3ab18",
    "lastScheduledRunId": null,
    "lastSuccessfullyExecutedCode": "avg_price = airbnb_price_df['price'].mean().round(decimals=2)"
   },
   "outputs": [],
   "source": [
    "avg_price = airbnb_price_df['price'].mean().round(decimals=2)"
   ]
  },
  {
   "cell_type": "markdown",
   "id": "aa61380b-d1d6-4db0-886c-b1c69aef69e2",
   "metadata": {},
   "source": [
    "## Combining it all"
   ]
  },
  {
   "cell_type": "code",
   "execution_count": 8,
   "id": "00dcef4e-1ee7-4438-ba24-288fd60df9aa",
   "metadata": {
    "executionCancelledAt": null,
    "executionTime": 55,
    "lastExecutedAt": 1732479515384,
    "lastExecutedByKernel": "12a38780-ebc2-42db-aced-cda2cce3ab18",
    "lastScheduledRunId": null,
    "lastSuccessfullyExecutedCode": "review_dates = pd.DataFrame({\n    'first_reviewed': [earliest_review], \n    'last_reviewed': [latest_review],\n    'nb_private_rooms': [private_room_count],\n    'avg_price': [avg_price]})\n\nreview_dates[['first_reviewed', 'last_reviewed']] = review_dates[['first_reviewed', 'last_reviewed']].apply(pd.to_datetime)#.apply(lambda x: x.dt.strftime(\"%Y-%m-%d\"))"
   },
   "outputs": [
    {
     "data": {
      "text/html": [
       "<div>\n",
       "<style scoped>\n",
       "    .dataframe tbody tr th:only-of-type {\n",
       "        vertical-align: middle;\n",
       "    }\n",
       "\n",
       "    .dataframe tbody tr th {\n",
       "        vertical-align: top;\n",
       "    }\n",
       "\n",
       "    .dataframe thead th {\n",
       "        text-align: right;\n",
       "    }\n",
       "</style>\n",
       "<table border=\"1\" class=\"dataframe\">\n",
       "  <thead>\n",
       "    <tr style=\"text-align: right;\">\n",
       "      <th></th>\n",
       "      <th>first_reviewed</th>\n",
       "      <th>last_reviewed</th>\n",
       "      <th>nb_private_rooms</th>\n",
       "      <th>avg_price</th>\n",
       "    </tr>\n",
       "  </thead>\n",
       "  <tbody>\n",
       "    <tr>\n",
       "      <th>0</th>\n",
       "      <td>2019-01-01</td>\n",
       "      <td>2019-07-09</td>\n",
       "      <td>11356</td>\n",
       "      <td>141.78</td>\n",
       "    </tr>\n",
       "  </tbody>\n",
       "</table>\n",
       "</div>"
      ],
      "text/plain": [
       "  first_reviewed last_reviewed  nb_private_rooms  avg_price\n",
       "0     2019-01-01    2019-07-09             11356     141.78"
      ]
     },
     "execution_count": 8,
     "metadata": {},
     "output_type": "execute_result"
    }
   ],
   "source": [
    "review_dates = pd.DataFrame({\n",
    "    'first_reviewed': [earliest_review], \n",
    "    'last_reviewed': [latest_review],\n",
    "    'nb_private_rooms': [private_room_count],\n",
    "    'avg_price': [avg_price]})\n",
    "\n",
    "review_dates[['first_reviewed', 'last_reviewed']] = review_dates[['first_reviewed', 'last_reviewed']].apply(pd.to_datetime)#.apply(lambda x: x.dt.strftime(\"%Y-%m-%d\"))\n",
    "review_dates"
   ]
  }
 ],
 "metadata": {
  "colab": {
   "name": "Welcome to DataCamp Workspaces.ipynb",
   "provenance": []
  },
  "editor": "DataLab",
  "kernelspec": {
   "display_name": "jupyter",
   "language": "python",
   "name": "python3"
  },
  "language_info": {
   "codemirror_mode": {
    "name": "ipython",
    "version": 3
   },
   "file_extension": ".py",
   "mimetype": "text/x-python",
   "name": "python",
   "nbconvert_exporter": "python",
   "pygments_lexer": "ipython3",
   "version": "3.10.13"
  }
 },
 "nbformat": 4,
 "nbformat_minor": 5
}
